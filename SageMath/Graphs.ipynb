{
 "cells": [
  {
   "cell_type": "code",
   "execution_count": null,
   "metadata": {},
   "outputs": [],
   "source": [
    "SizeOfTest = [10, 100, 1000, 10000, 100000]\n",
    "Colors = ['orange', 'purple', 'green', 'blue', 'red', 'cyan']\n",
    "\n",
    "Array = {\n",
    "    \"For Loop\":\n",
    "    [800, 1900, 17700, 169600, 1305000],\n",
    "    \"Enhanced For Loop\":\n",
    "    [500, 1700, 15900, 154400, 1249800],\n",
    "    \"Stream For Each\":\n",
    "    [2225900, 13900, 82900, 405400, 2595600],\n",
    "    \"Parallel Stream\":\n",
    "    [5200000, 254300, 827700, 620400, 3241500]\n",
    "}\n",
    "\n",
    "ArrayList = {\n",
    "    \"For Loop\":\n",
    "    [8300, 239000, 357700, 1201400, 7409000],\n",
    "    \"Enhanced For Loop\":\n",
    "    [8800, 34500, 343900, 1272100, 7649400],\n",
    "    \"Iterator With While\":\n",
    "    [4000, 35400, 295200, 1095100, 8677200],\n",
    "    \"Iterator With For Loop\":\n",
    "    [4000, 34700, 218100, 808500, 8556300],\n",
    "    \"Stream For Each\":\n",
    "    [611700, 20000, 143000, 518600, 5653600],\n",
    "    \"Parallel Stream\":\n",
    "    [606400, 163400, 300600, 790700, 2768700]\n",
    "}\n",
    "\n",
    "LinkedList = {\n",
    "    \"For Loop\":\n",
    "    [44700, 108300, 3109600, 49748000, 364232604],\n",
    "    \"Enhanced For Loop\":\n",
    "    [188000, 50900, 184300, 2424100, 986600],\n",
    "    \"Iterator With While\":\n",
    "    [4900, 103100, 137500, 1262600, 962600],\n",
    "    \"Iterator With For Loop\":\n",
    "    [16000, 106300, 31800, 4312700, 959600],\n",
    "    \"Stream For Each\":\n",
    "    [120300, 9400, 54700, 741000, 3594800],\n",
    "    \"Parallel Stream\":\n",
    "    [182700, 289600, 425400, 1738200, 4039700]\n",
    "}\n",
    "\n",
    "HashSet = {\n",
    "    \"Enhanced For Loop\":\n",
    "    [22600, 6200, 50300, 1026700, 10513100],\n",
    "    \"Iterator With While\":\n",
    "    [7000, 5500, 47800, 1010600, 10615100],\n",
    "    \"Iterator With For Loop\":\n",
    "    [10900, 11000, 97800, 892000, 7996100],\n",
    "    \"Stream For Each\":\n",
    "    [87800, 16700, 111300, 1011000, 7483000],\n",
    "    \"Parallel Stream\":\n",
    "    [167500, 175000, 177600, 789200, 8708500]\n",
    "}\n"
   ]
  },
  {
   "cell_type": "code",
   "execution_count": null,
   "metadata": {},
   "outputs": [],
   "source": [
    "array = Graphics()\n",
    "arraylist = Graphics()\n",
    "linkedlist = Graphics()\n",
    "hashset = Graphics()"
   ]
  },
  {
   "cell_type": "code",
   "execution_count": null,
   "metadata": {},
   "outputs": [],
   "source": [
    "for key, Color in zip(Array.keys(), Colors):\n",
    "    array += line([(size, value) for size, value in zip(SizeOfTest, Array[key])],scale='loglog',base=10, color=Color, legend_label=key, legend_color=Color)\n",
    "array.show()"
   ]
  },
  {
   "cell_type": "code",
   "execution_count": null,
   "metadata": {},
   "outputs": [],
   "source": [
    "for key, Color in zip(ArrayList.keys(), Colors):\n",
    "    arraylist += line([(size, value) for size, value in zip(SizeOfTest, ArrayList[key])],scale='semilogx',base=10, color=Color, legend_label=key, legend_color=Color)\n",
    "arraylist.show()"
   ]
  },
  {
   "cell_type": "code",
   "execution_count": null,
   "metadata": {},
   "outputs": [],
   "source": [
    "for key, Color in zip(LinkedList.keys(), Colors):\n",
    "    linkedlist += line([(size, value) for size, value in zip(SizeOfTest, LinkedList[key])],scale='loglog',base=10, color=Color, legend_label=key, legend_color=Color)\n",
    "linkedlist.show()"
   ]
  },
  {
   "cell_type": "code",
   "execution_count": null,
   "metadata": {},
   "outputs": [],
   "source": [
    "for key, Color in zip(HashSet.keys(), Colors):\n",
    "    hashset += line([(size, value) for size, value in zip(SizeOfTest, HashSet[key])],scale='semilogx',base=10, color=Color, legend_label=key, legend_color=Color)\n",
    "hashset.show()"
   ]
  },
  {
   "cell_type": "code",
   "execution_count": null,
   "metadata": {},
   "outputs": [],
   "source": []
  }
 ],
 "metadata": {
  "kernelspec": {
   "display_name": "SageMath 9.2",
   "language": "sage",
   "name": "sagemath"
  },
  "language_info": {
   "codemirror_mode": {
    "name": "ipython",
    "version": 3
   },
   "file_extension": ".py",
   "mimetype": "text/x-python",
   "name": "python",
   "nbconvert_exporter": "python",
   "pygments_lexer": "ipython3",
   "version": "3.7.7"
  }
 },
 "nbformat": 4,
 "nbformat_minor": 4
}
